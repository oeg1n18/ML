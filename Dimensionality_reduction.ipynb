{
 "cells": [
  {
   "cell_type": "markdown",
   "metadata": {},
   "source": [
    "# Dimensionality Reduction"
   ]
  },
  {
   "cell_type": "markdown",
   "metadata": {},
   "source": [
    "big datasets can have millions of features. Some of these features may be unimportant. for example the pixels around the edge of an instance of the MNIST dataset. others for example may be highly correlated and redcing them together will not loose alot of information. \n",
    "\n",
    "Also dimensionality reducting can be very useful reducing a number of features into mabye just 3 dimensions which can then be graphed.\n",
    "\n",
    "***The three popular dimensions are PCA, kernel and LLE.***\n",
    "\n",
    "if you picked two points in a unit square the average distance would be roughly 0.52 bit in 1,000,000 dimensions would be around 408.25 which means that it is unlikely any other instance will be replicas and the datasets are at risk of being very sparse meaning all the instances will be very far apart making predictions less reliable than in lower dimensions. In essesnce the more features you have the more prone your model will be to overfitting. Therefore Dimensionality reduction can imporve performance.\n",
    "\n",
    "##  Projection\n",
    "in a 3d dataset if you simply project the datapoints onto a single plane you have reduced 3d to 2d however if there are distinct layers in the 3d dataset projecting them ontop of eachother will lose valuable information. \n",
    "\n",
    "## Manifold learning\n",
    "Manifold learning put simply is a 3d shape rolled out onto a 2d plane. a d-dimensional manifold is part of an n-dimensional space where d<n. The manifold hypothesis that many high dimensional datasets resemble closely to a lower dimensional manifold. \n",
    "\n",
    "Not all manifolds are simpler than their original spaces. Their decision boundaries may be more complex and therefore it is not always the case that maifold learning will produce a better training set. It depends on the dataset.\n",
    "\n",
    "## Principle Component Analysis\n",
    "it is by far the best dimensionality reduction algorithm. It first identifies the hyperplane that lies closest to the data and then projects the data onto it. \n",
    "\n",
    "#### Preserving Varience\n",
    "depending on the hyperplane you use for projection varience will be reduced in some form. This removes some of the important information from the dataset. A dimension must be chosen so that the least amount of varience will be lost. for example if we reduce from 3 to 2 dimensions the dimensions chosen would be the ones that retained the most varience.\n",
    "\n",
    "Single Value Decomposiition is a matrix factorization method that decomposes the training set. Numpy has a method to find the principle componenets. \n"
   ]
  },
  {
   "cell_type": "code",
   "execution_count": 1,
   "metadata": {},
   "outputs": [
    {
     "data": {
      "text/plain": [
       "(1797, 64)"
      ]
     },
     "execution_count": 1,
     "metadata": {},
     "output_type": "execute_result"
    }
   ],
   "source": [
    "import numpy as np \n",
    "from sklearn.datasets import load_digits\n",
    "\n",
    "train_set = (load_digits())['data']\n",
    "train_set.shape"
   ]
  },
  {
   "cell_type": "code",
   "execution_count": 2,
   "metadata": {},
   "outputs": [
    {
     "data": {
      "text/plain": [
       "(64,)"
      ]
     },
     "execution_count": 2,
     "metadata": {},
     "output_type": "execute_result"
    }
   ],
   "source": [
    "X_centered = train_set - train_set.mean(axis=0)\n",
    "U, s, Vt = np.linalg.svd(X_centered)\n",
    "c1 = Vt.T[:,0] #all dimension values for instance 1\n",
    "c1.shape"
   ]
  },
  {
   "cell_type": "code",
   "execution_count": 3,
   "metadata": {},
   "outputs": [
    {
     "data": {
      "text/plain": [
       "(64,)"
      ]
     },
     "execution_count": 3,
     "metadata": {},
     "output_type": "execute_result"
    }
   ],
   "source": [
    "c2 = Vt.T[:,1] #all dimension values for instance 2 \n",
    "c2.shape"
   ]
  },
  {
   "cell_type": "code",
   "execution_count": 4,
   "metadata": {},
   "outputs": [
    {
     "data": {
      "text/plain": [
       "(1797, 2)"
      ]
     },
     "execution_count": 4,
     "metadata": {},
     "output_type": "execute_result"
    }
   ],
   "source": [
    "#following code projects the traininset onto the plane defined\n",
    "# by the first two principle compoenents\n",
    "\n",
    "W2 = Vt.T[:,:2]\n",
    "X2D = X_centered.dot(W2) #this is how you reduce the dimensionality \n",
    "# fo any dataset.\n",
    "X2D.shape "
   ]
  },
  {
   "cell_type": "markdown",
   "metadata": {},
   "source": [
    "Using Sklearns PCA class"
   ]
  },
  {
   "cell_type": "code",
   "execution_count": 5,
   "metadata": {},
   "outputs": [
    {
     "data": {
      "text/plain": [
       "(1797, 10)"
      ]
     },
     "execution_count": 5,
     "metadata": {},
     "output_type": "execute_result"
    }
   ],
   "source": [
    "from sklearn.decomposition import PCA\n",
    "\n",
    "pca = PCA(n_components = 10)\n",
    "X2D = pca.fit_transform(X_centered)\n",
    "X2D.shape"
   ]
  },
  {
   "cell_type": "markdown",
   "metadata": {},
   "source": [
    "## Explained Varience Ratio\n",
    "below shows the level varience that is present in each of the principle componenets in the dataset."
   ]
  },
  {
   "cell_type": "code",
   "execution_count": 6,
   "metadata": {},
   "outputs": [
    {
     "data": {
      "text/plain": [
       "array([0.14890594, 0.13618771, 0.11794594, 0.08409979, 0.05782415,\n",
       "       0.04916902, 0.04315976, 0.03661324, 0.03352816, 0.03078732])"
      ]
     },
     "execution_count": 6,
     "metadata": {},
     "output_type": "execute_result"
    }
   ],
   "source": [
    "pca.explained_variance_ratio_ "
   ]
  },
  {
   "cell_type": "markdown",
   "metadata": {},
   "source": [
    "***Choosing the right nubmer of Dimensions***\n",
    "the general method is to reduce the dimensions to a level that only reduces the total varience to about 0.95. s"
   ]
  },
  {
   "cell_type": "code",
   "execution_count": 7,
   "metadata": {},
   "outputs": [
    {
     "data": {
      "text/plain": [
       "29"
      ]
     },
     "execution_count": 7,
     "metadata": {},
     "output_type": "execute_result"
    }
   ],
   "source": [
    "pca = PCA()\n",
    "pca.fit((load_digits())['data'])\n",
    "cumsum = np.cumsum(pca.explained_variance_ratio_)\n",
    "d = np.argmax(cumsum >= 0.95) + 1\n",
    "d"
   ]
  },
  {
   "cell_type": "code",
   "execution_count": 8,
   "metadata": {},
   "outputs": [
    {
     "data": {
      "text/plain": [
       "(1797, 29)"
      ]
     },
     "execution_count": 8,
     "metadata": {},
     "output_type": "execute_result"
    }
   ],
   "source": [
    "# or \n",
    "pca = PCA(n_components=0.95)\n",
    "data_reduced = pca.fit_transform((load_digits())['data'])\n",
    "data_reduced.shape"
   ]
  },
  {
   "cell_type": "markdown",
   "metadata": {},
   "source": [
    "# PCA for Compression"
   ]
  },
  {
   "cell_type": "code",
   "execution_count": 9,
   "metadata": {},
   "outputs": [
    {
     "data": {
      "text/plain": [
       "<matplotlib.image.AxesImage at 0x125a48d00>"
      ]
     },
     "execution_count": 9,
     "metadata": {},
     "output_type": "execute_result"
    },
    {
     "data": {
      "image/png": "[encoded data removed]",
      "text/plain": [
       "<Figure size 432x288 with 1 Axes>"
      ]
     },
     "metadata": {
      "needs_background": "light"
     },
     "output_type": "display_data"
    }
   ],
   "source": [
    "import matplotlib.pyplot as plt\n",
    "digits = (load_digits())['data']\n",
    "plt.imshow(digits[3].reshape(8,8))"
   ]
  },
  {
   "cell_type": "code",
   "execution_count": 10,
   "metadata": {},
   "outputs": [
    {
     "data": {
      "text/plain": [
       "(29,)"
      ]
     },
     "execution_count": 10,
     "metadata": {},
     "output_type": "execute_result"
    }
   ],
   "source": [
    "#lets compress it \n",
    "pca = PCA(n_components = 0.95)\n",
    "im_reduced = pca.fit_transform(digits)\n",
    "im_reduced[2].shape #down to only 29 components fro 64"
   ]
  },
  {
   "cell_type": "code",
   "execution_count": 11,
   "metadata": {},
   "outputs": [
    {
     "data": {
      "text/plain": [
       "<matplotlib.image.AxesImage at 0x1258b4670>"
      ]
     },
     "execution_count": 11,
     "metadata": {},
     "output_type": "execute_result"
    },
    {
     "data": {
      "image/png": "[encoded data removed]",
      "text/plain": [
       "<Figure size 432x288 with 1 Axes>"
      ]
     },
     "metadata": {
      "needs_background": "light"
     },
     "output_type": "display_data"
    }
   ],
   "source": [
    "im_reconstructed = pca.inverse_transform(im_reduced)\n",
    "plt.imshow(im_reconstructed[3].reshape(8,8)) \n",
    "# not bad pretty much the same"
   ]
  },
  {
   "cell_type": "markdown",
   "metadata": {},
   "source": [
    "An issue with the PCA method is that it requires the entire dataset to fit into memory. For large Datasets where this is not possible you must use IPCA algorithm which allows mini-batches for on the fly taining. "
   ]
  },
  {
   "cell_type": "code",
   "execution_count": 12,
   "metadata": {},
   "outputs": [
    {
     "name": "stdout",
     "output_type": "stream",
     "text": [
      "original:  (1797, 64)\n",
      "reduced:  (1797, 29)\n"
     ]
    }
   ],
   "source": [
    "from sklearn.decomposition import IncrementalPCA\n",
    "\n",
    "\n",
    "n_batches = 60\n",
    "inc_pca = IncrementalPCA(n_components=29)\n",
    "for X_batch in np.array_split(digits, n_batches): \n",
    "    inc_pca.partial_fit(X_batch)\n",
    "    \n",
    "im_reduced = inc_pca.transform(digits)\n",
    "\n",
    "print('original: ', digits.shape)\n",
    "print('reduced: ', im_reduced.shape)\n"
   ]
  },
  {
   "cell_type": "markdown",
   "metadata": {},
   "source": [
    "# Kernel PCA\n",
    "we saw in using SVM the rbf kernel method allowed he mapping of a dataset into a higher dimension space (feature space) enabiling nonlinear classification and regression with SVMs. \n",
    "\n",
    "remember a linear seperatable datsets in the feature space or complex nonlinear in the original space. The same kernel method can perform complex nonlinear projections for dimensionality reduction.It is good at preserving clusters of instance after projections. "
   ]
  },
  {
   "cell_type": "code",
   "execution_count": 13,
   "metadata": {},
   "outputs": [
    {
     "data": {
      "text/plain": [
       "(1797, 3)"
      ]
     },
     "execution_count": 13,
     "metadata": {},
     "output_type": "execute_result"
    }
   ],
   "source": [
    "from sklearn.decomposition import KernelPCA\n",
    "\n",
    "rbf_pca = KernelPCA(n_components=3, kernel='rbf', gamma=0.4)\n",
    "dig_reduced = rbf_pca.fit_transform(digits)\n",
    "dig_reduced.shape"
   ]
  },
  {
   "cell_type": "markdown",
   "metadata": {},
   "source": [
    "# Selecting a Kernel and Tuning Hyperparameters\n",
    "the kPCA (kernel pca) method is an unsupervised learnin algorithm. There is no obvious performance measure to help you select the best hyperparameter but you could use a grid search to find the best solution and then include that. "
   ]
  },
  {
   "cell_type": "code",
   "execution_count": 14,
   "metadata": {},
   "outputs": [],
   "source": [
    "from sklearn.datasets import make_swiss_roll\n",
    "\n",
    "X, t = make_swiss_roll(n_samples=1000, noise=0.2, random_state=42)\n",
    "y = t > 6.9"
   ]
  },
  {
   "cell_type": "code",
   "execution_count": 15,
   "metadata": {},
   "outputs": [
    {
     "data": {
      "text/plain": [
       "GridSearchCV(cv=3,\n",
       "             estimator=Pipeline(steps=[('kpca', KernelPCA(n_components=2)),\n",
       "                                       ('log_reg', LogisticRegression())]),\n",
       "             param_grid=[{'kpca__gamma': array([0.03      , 0.03222222, 0.03444444, 0.03666667, 0.03888889,\n",
       "       0.04111111, 0.04333333, 0.04555556, 0.04777778, 0.05      ]),\n",
       "                          'kpca__kernel': ['rbf', 'sigmoid']}])"
      ]
     },
     "execution_count": 15,
     "metadata": {},
     "output_type": "execute_result"
    }
   ],
   "source": [
    "from sklearn.model_selection import GridSearchCV\n",
    "from sklearn.linear_model import LogisticRegression\n",
    "from sklearn.pipeline import Pipeline \n",
    "\n",
    "\n",
    "\n",
    "clf = Pipeline([\n",
    "    (\"kpca\", KernelPCA(n_components=2)),\n",
    "    (\"log_reg\", LogisticRegression())\n",
    "])\n",
    "\n",
    "param_grid = [{\"kpca__gamma\": np.linspace(0.03, 0.05, 10),\n",
    "               \"kpca__kernel\": [\"rbf\", \"sigmoid\"]}]\n",
    "\n",
    "\n",
    "\n",
    "grid_search = GridSearchCV(clf, param_grid, cv=3)\n",
    "grid_search.fit(X,y)"
   ]
  },
  {
   "cell_type": "code",
   "execution_count": 16,
   "metadata": {},
   "outputs": [
    {
     "data": {
      "text/plain": [
       "{'kpca__gamma': 0.043333333333333335, 'kpca__kernel': 'rbf'}"
      ]
     },
     "execution_count": 16,
     "metadata": {},
     "output_type": "execute_result"
    }
   ],
   "source": [
    "grid_search.best_params_ #the best parameters to use for kPCA.\n"
   ]
  },
  {
   "cell_type": "markdown",
   "metadata": {},
   "source": [
    "instead of finding the kernel that produces the best accuracy for the model another method would to find the best hyperparameters that produces the least errors for reconstruction however when you use a kernel method to map a training set into a smaller dimension you effectively first map the training set into a infinate dimensional space and then use PCA to reduce it. It is not therefore possible to be able to map points between sets and not possible to find the error. \n",
    "\n",
    "A solution is to find the point in the reduced set that is closest to one in the training set. As they have a relatively large number of dimensions all points are effectively very far away so the close ones are very likely to be the same points in different space. You can then yield the mean squared error and quantify the reconstruction error."
   ]
  },
  {
   "cell_type": "code",
   "execution_count": 17,
   "metadata": {},
   "outputs": [],
   "source": [
    "rbf_pca = KernelPCA(n_components = 2, kernel=\"rbf\", gamma=0.433, fit_inverse_transform=True)\n",
    "X_reduced = rbf_pca.fit_transform(X)\n",
    "X_preimage = rbf_pca.inverse_transform(X_reduced)\n",
    "# by defuatl kernelPCA has fit_inverse_transofrm as false so has \n",
    "# no inverse_transform method unless set true."
   ]
  },
  {
   "cell_type": "code",
   "execution_count": 18,
   "metadata": {},
   "outputs": [
    {
     "data": {
      "text/plain": [
       "1.8055081358307995e-26"
      ]
     },
     "execution_count": 18,
     "metadata": {},
     "output_type": "execute_result"
    }
   ],
   "source": [
    "#compute the pre-image reconstruction error \n",
    "from sklearn.metrics import mean_squared_error\n",
    "mean_squared_error(X, X_preimage)\n"
   ]
  },
  {
   "cell_type": "code",
   "execution_count": 19,
   "metadata": {},
   "outputs": [
    {
     "name": "stdout",
     "output_type": "stream",
     "text": [
      "(1797, 64) (1797, 64)\n",
      "(1797, 64) (1797, 64)\n",
      "(1797, 64) (1797, 64)\n",
      "(1797, 64) (1797, 64)\n",
      "(1797, 64) (1797, 64)\n",
      "(1797, 64) (1797, 64)\n"
     ]
    }
   ],
   "source": [
    "# lets use gridsearch to find the hyperparameters that reduce \n",
    "# the reconstruction error the most.\n",
    "\n",
    "models = []\n",
    "param_grid = [{\"kpca__gamma\": np.linspace(0.03, 0.05, 10),\n",
    "               \"kpca__kernel\": [\"rbf\", \"sigmoid\"]}]\n",
    "\n",
    "X, t = make_swiss_roll(n_samples=1000, noise=0.2, random_state=42)\n",
    "y = t > 6.9\n",
    "\n",
    "X = load_digits()['data']\n",
    "\n",
    "for model_kernel in [\"rbf\", \"sigmoid\"]:\n",
    "    for model_gamma in (0.03, 0.05, 10):\n",
    "        models.append(KernelPCA(n_components=12, kernel=model_kernel,\n",
    "                               gamma=model_gamma, fit_inverse_transform=True))\n",
    "\n",
    "model_errors = {}\n",
    "for model in models: \n",
    "    X_reduced = model.fit_transform(X)\n",
    "    X_preimage = model.inverse_transform(X_reduced)\n",
    "    print(X.shape, X_preimage.shape)\n",
    "    model_errors[mean_squared_error(X, X_preimage)] = model\n"
   ]
  },
  {
   "cell_type": "code",
   "execution_count": 20,
   "metadata": {},
   "outputs": [
    {
     "data": {
      "text/plain": [
       "KernelPCA(fit_inverse_transform=True, gamma=10, kernel='sigmoid',\n",
       "          n_components=12)"
      ]
     },
     "execution_count": 20,
     "metadata": {},
     "output_type": "execute_result"
    }
   ],
   "source": [
    "\n",
    "for key in model_errors.keys():\n",
    "    mini = np.inf\n",
    "    val = key\n",
    "    if val<mini: \n",
    "        mini = val\n",
    "        \n",
    "best_model = model_errors[mini]\n",
    "best_model"
   ]
  },
  {
   "cell_type": "code",
   "execution_count": 21,
   "metadata": {},
   "outputs": [
    {
     "data": {
      "text/plain": [
       "1.538229973096401e-25"
      ]
     },
     "execution_count": 21,
     "metadata": {},
     "output_type": "execute_result"
    }
   ],
   "source": [
    "mini # better"
   ]
  },
  {
   "cell_type": "markdown",
   "metadata": {},
   "source": [
    "\n"
   ]
  },
  {
   "attachments": {},
   "cell_type": "markdown",
   "metadata": {},
   "source": [
    "# LLE\n",
    "Locally Linear Embedding. It is a Manifold Learning technique that does not rely on projections like previous algorithms. \n",
    "\n",
    "1. LLE first finds the K-nearest neighbors and then attempts to represent the instance as a linear combination of its neighbors. \n",
    "\n",
    "2. do a weighted aggregation of the neighbours to minimize the cost function, where j'th nearest neighbour for point Xi\n",
    "<br/>\n",
    "<img src=\"images/LLE_cost.png\")\n",
    "<br/>\n",
    " \n",
    "3. Now that we have the weights ***W*** that minimized the cost function above and encodes the local linear relationships between instances. The next step is to map the instances into a d-dimensional space d<n while preserving local relationships.\n",
    "\n",
    "4. next we minimize the folowing. \n",
    "<img src=\"images/LLE_step_two.png\">\n",
    "\n",
    "where ***Z*** is the image of ***X*** in d dimensions. It looks similar to the first optimization but instead of keeping the instances fixing and findng the optimal weights. Keep the weights fixed and find the optimal position of the instances int he lower dimensional space.\n",
    "\n",
    "5. LLE has the complexity O(m log(m)n log(k)) for finding k nearest neighbors, O(mnk^3) for optimizing weights and O(dm^2) for constructing low-dimensional representations. The m^2 in the last term makes the alogrithm scale poorly to large datasets.\n",
    "\n",
    "# Exercises"
   ]
  },
  {
   "cell_type": "code",
   "execution_count": 22,
   "metadata": {},
   "outputs": [
    {
     "name": "stdout",
     "output_type": "stream",
     "text": [
      "train:  (60000, 784) (60000,)\n",
      "test:  (10000, 784) (10000,)\n"
     ]
    }
   ],
   "source": [
    "from sklearn.model_selection import train_test_split\n",
    "from sklearn.datasets import fetch_openml\n",
    "\n",
    "# Get data and split to test/train\n",
    "X, y = fetch_openml('mnist_784', version=1, return_X_y=True)\n",
    "X_train, X_test, y_train, y_test = train_test_split(X, y, test_size=0.14285714)\n",
    "\n",
    "print('train: ', X_train.shape, y_train.shape)\n",
    "print('test: ', X_test.shape, y_test.shape)"
   ]
  },
  {
   "cell_type": "code",
   "execution_count": 23,
   "metadata": {},
   "outputs": [],
   "source": [
    "from sklearn.ensemble import RandomForestClassifier\n",
    "forest_cls = RandomForestClassifier(n_estimators=10)"
   ]
  },
  {
   "cell_type": "code",
   "execution_count": 24,
   "metadata": {},
   "outputs": [
    {
     "name": "stdout",
     "output_type": "stream",
     "text": [
      "CPU times: user 3.64 s, sys: 74.6 ms, total: 3.71 s\n",
      "Wall time: 3.72 s\n"
     ]
    },
    {
     "data": {
      "text/plain": [
       "RandomForestClassifier(n_estimators=10)"
      ]
     },
     "execution_count": 24,
     "metadata": {},
     "output_type": "execute_result"
    }
   ],
   "source": [
    "%%time \n",
    "forest_cls.fit(X_train, y_train)"
   ]
  },
  {
   "cell_type": "code",
   "execution_count": 25,
   "metadata": {},
   "outputs": [
    {
     "name": "stdout",
     "output_type": "stream",
     "text": [
      "precision:  0.9459090465412798\n"
     ]
    }
   ],
   "source": [
    "from sklearn.metrics import precision_score\n",
    "\n",
    "preds = forest_cls.predict(X_test)\n",
    "print('precision: ', precision_score(y_test, preds, average='macro'))\n"
   ]
  },
  {
   "cell_type": "code",
   "execution_count": 26,
   "metadata": {},
   "outputs": [],
   "source": [
    "from sklearn.decomposition import PCA\n",
    "\n",
    "pca1 = PCA(n_components = 450)\n",
    "X_train_reduced = pca1.fit_transform(X_train)\n",
    "\n",
    "forest_cls2 = RandomForestClassifier(n_estimators=10)"
   ]
  },
  {
   "cell_type": "code",
   "execution_count": 27,
   "metadata": {},
   "outputs": [
    {
     "name": "stdout",
     "output_type": "stream",
     "text": [
      "time:  15.503911972045898\n"
     ]
    }
   ],
   "source": [
    "import time# So PCA actually reduced training speed of\n",
    "t0 = time.time()\n",
    "forest_cls2.fit(X_train_reduced, y_train)\n",
    "t1 = time.time()\n",
    "print('time: ', (t1-t0))"
   ]
  },
  {
   "cell_type": "code",
   "execution_count": 28,
   "metadata": {},
   "outputs": [
    {
     "name": "stdout",
     "output_type": "stream",
     "text": [
      "precision:  0.5497597079478196\n"
     ]
    }
   ],
   "source": [
    "test_pca = PCA(n_components = 450)\n",
    "X_test_reduced = test_pca.fit_transform(X_test)\n",
    "preds = forest_cls2.predict(X_test_reduced)\n",
    "print('precision: ', precision_score(y_test, preds, average='macro'))"
   ]
  },
  {
   "cell_type": "markdown",
   "metadata": {},
   "source": [
    "So PCA has destroyed the training time and precision. Not great. It is not always the case the dimension reduction will be benefitial. Lets try it with a softmax classifier.\n"
   ]
  },
  {
   "cell_type": "code",
   "execution_count": 29,
   "metadata": {},
   "outputs": [],
   "source": [
    "from sklearn.linear_model import LogisticRegression\n",
    "\n",
    "log_clf = LogisticRegression(multi_class=\"multinomial\", solver=\"lbfgs\")\n",
    "log_clf2 = LogisticRegression(multi_class=\"multinomial\", solver=\"lbfgs\")"
   ]
  },
  {
   "cell_type": "code",
   "execution_count": 30,
   "metadata": {},
   "outputs": [
    {
     "name": "stderr",
     "output_type": "stream",
     "text": [
      "/Library/Frameworks/Python.framework/Versions/3.8/lib/python3.8/site-packages/sklearn/linear_model/_logistic.py:762: ConvergenceWarning: lbfgs failed to converge (status=1):\n",
      "STOP: TOTAL NO. of ITERATIONS REACHED LIMIT.\n",
      "\n",
      "Increase the number of iterations (max_iter) or scale the data as shown in:\n",
      "    https://scikit-learn.org/stable/modules/preprocessing.html\n",
      "Please also refer to the documentation for alternative solver options:\n",
      "    https://scikit-learn.org/stable/modules/linear_model.html#logistic-regression\n",
      "  n_iter_i = _check_optimize_result(\n"
     ]
    },
    {
     "name": "stdout",
     "output_type": "stream",
     "text": [
      "original:  15.974011898040771\n",
      "reduced:  10.1973557472229\n"
     ]
    },
    {
     "name": "stderr",
     "output_type": "stream",
     "text": [
      "/Library/Frameworks/Python.framework/Versions/3.8/lib/python3.8/site-packages/sklearn/linear_model/_logistic.py:762: ConvergenceWarning: lbfgs failed to converge (status=1):\n",
      "STOP: TOTAL NO. of ITERATIONS REACHED LIMIT.\n",
      "\n",
      "Increase the number of iterations (max_iter) or scale the data as shown in:\n",
      "    https://scikit-learn.org/stable/modules/preprocessing.html\n",
      "Please also refer to the documentation for alternative solver options:\n",
      "    https://scikit-learn.org/stable/modules/linear_model.html#logistic-regression\n",
      "  n_iter_i = _check_optimize_result(\n"
     ]
    }
   ],
   "source": [
    "t0 = time.time()\n",
    "log_clf.fit(X_train, y_train)\n",
    "t1 = time.time()\n",
    "t2= time.time()\n",
    "log_clf2.fit(X_train_reduced, y_train)\n",
    "t3 = time.time()\n",
    "print('original: ', (t1-t0))\n",
    "print('reduced: ', (t3-t2))"
   ]
  },
  {
   "cell_type": "code",
   "execution_count": 31,
   "metadata": {},
   "outputs": [
    {
     "name": "stdout",
     "output_type": "stream",
     "text": [
      "original score:  0.9237\n",
      "reduced score 0.6105\n"
     ]
    }
   ],
   "source": [
    "from sklearn.metrics import accuracy_score\n",
    "\n",
    "or_score = accuracy_score(y_test, log_clf.predict(X_test))\n",
    "red_scor = accuracy_score(y_test, log_clf2.predict(X_test_reduced))\n",
    "\n",
    "print('original score: ', or_score)\n",
    "print('reduced score', red_scor)\n"
   ]
  },
  {
   "cell_type": "markdown",
   "metadata": {},
   "source": [
    "Ok so a 3 times reduction in training time but quite a significant reduction in accuracy."
   ]
  },
  {
   "cell_type": "code",
   "execution_count": 32,
   "metadata": {},
   "outputs": [],
   "source": [
    "from sklearn.manifold import TSNE\n",
    "from sklearn.datasets import load_digits\n",
    "\n",
    "digits = load_digits()\n",
    "X = digits['data']\n",
    "y = digits['target']"
   ]
  },
  {
   "cell_type": "code",
   "execution_count": 33,
   "metadata": {},
   "outputs": [],
   "source": [
    "reduce = TSNE(n_components=2, random_state=42)\n",
    "X_reduced = reduce.fit_transform(X)"
   ]
  },
  {
   "cell_type": "code",
   "execution_count": 43,
   "metadata": {},
   "outputs": [
    {
     "data": {
      "text/plain": [
       "<matplotlib.colorbar.Colorbar at 0x126c16850>"
      ]
     },
     "execution_count": 43,
     "metadata": {},
     "output_type": "execute_result"
    },
    {
     "data": {
      "image/png": "[encoded data removed]",
      "text/plain": [
       "<Figure size 936x720 with 2 Axes>"
      ]
     },
     "metadata": {
      "needs_background": "light"
     },
     "output_type": "display_data"
    }
   ],
   "source": [
    "import matplotlib.pyplot as plt\n",
    "\n",
    "\n",
    "plt.figure(figsize=(13,10))\n",
    "plt.scatter(X_reduced[:, 0], X_reduced[:, 1], c=y, cmap='jet')\n",
    "plt.colorbar()"
   ]
  },
  {
   "cell_type": "code",
   "execution_count": null,
   "metadata": {},
   "outputs": [],
   "source": []
  }
 ],
 "metadata": {
  "kernelspec": {
   "display_name": "Python 3",
   "language": "python",
   "name": "python3"
  },
  "language_info": {
   "codemirror_mode": {
    "name": "ipython",
    "version": 3
   },
   "file_extension": ".py",
   "mimetype": "text/x-python",
   "name": "python",
   "nbconvert_exporter": "python",
   "pygments_lexer": "ipython3",
   "version": "3.8.3"
  }
 },
 "nbformat": 4,
 "nbformat_minor": 2
}
