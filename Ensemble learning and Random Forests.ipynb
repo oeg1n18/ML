{
 "cells": [
  {
   "cell_type": "markdown",
   "metadata": {},
   "source": [
    "# Ensemble Learning and Random Forests\n",
    "ensemble learning is very powerful provided the types of models used to create the predictions make different type of error the resulting ensemble result will be more accurate. Therefore it is very important to use very different models. "
   ]
  },
  {
   "cell_type": "code",
   "execution_count": 1,
   "metadata": {},
   "outputs": [],
   "source": [
    "from sklearn.ensemble import RandomForestClassifier\n",
    "from sklearn.ensemble import VotingClassifier \n",
    "from sklearn.linear_model import LogisticRegression\n",
    "from sklearn.svm import SVC\n",
    "from sklearn.datasets import make_moons\n",
    "from sklearn.model_selection import train_test_split\n",
    "\n",
    "X, y = make_moons(n_samples=10000, noise=0.3)\n",
    "X_train, X_test, y_train, y_test = train_test_split(X, y, test_size=0.2)\n",
    "\n",
    "log_clf = LogisticRegression()\n",
    "Forest_clf = RandomForestClassifier()\n",
    "svc_clf = SVC()\n",
    "\n",
    "voting_clf = VotingClassifier(\n",
    "    estimators=[('log', log_clf), ('forest', Forest_clf), ('svc', svc_clf)],\n",
    "    voting='hard'\n",
    ")"
   ]
  },
  {
   "cell_type": "code",
   "execution_count": 2,
   "metadata": {},
   "outputs": [
    {
     "data": {
      "text/plain": [
       "VotingClassifier(estimators=[('log', LogisticRegression()),\n",
       "                             ('forest', RandomForestClassifier()),\n",
       "                             ('svc', SVC())])"
      ]
     },
     "execution_count": 2,
     "metadata": {},
     "output_type": "execute_result"
    }
   ],
   "source": [
    "voting_clf.fit(X_train, y_train)"
   ]
  },
  {
   "cell_type": "code",
   "execution_count": 3,
   "metadata": {},
   "outputs": [
    {
     "name": "stdout",
     "output_type": "stream",
     "text": [
      "LogisticRegression 0.8525\n",
      "RandomForestClassifier 0.908\n",
      "SVC 0.918\n",
      "VotingClassifier 0.9155\n"
     ]
    }
   ],
   "source": [
    "from sklearn.metrics import accuracy_score\n",
    "for clf in (log_clf, Forest_clf, svc_clf, voting_clf):\n",
    "    clf.fit(X_train, y_train)\n",
    "    print(clf.__class__.__name__, accuracy_score(y_test, clf.predict(X_test)))"
   ]
  },
  {
   "cell_type": "markdown",
   "metadata": {},
   "source": [
    "if all of the models in the VotingClassifier contain predict_proba methods than you can change the voting to 'soft' and can access the predict_proba for the ensemble. To do this with the current code above you would need to add a hyperparameter to the SVC class as it does not offer probabilities by default.  \n",
    "  \n",
    "## Bagging and Pasting\n",
    "one way to get a set of diverse classifiers is to use very different algorithms. Another is to use very different training algorithms, Alternatively you could train each of them on a different subset of the training data. When each of the classifiers is trained on a subset of the training data but that training data is replaced the process is known as ***bagging***. when it occurs without replacement it is called ***pasting***.\n",
    "<br/>\n",
    "Each individual predictor has higher bias when trained on a subset of the training set but aggregation reduces both the bias and varience. You can expect the bias of an ensemble of classifiers to be roughly the same as a single predictor but less varience. \n",
    "\n",
    "as each different model is trained on a different subset and use different models there is potential for parallel computation. This is why bagging and pasting are popular methods.  \n",
    "  \n",
    "Sklearn offers a simple API for bagging and apsting with aggingclassifier and BaggingRegression for regression. Should you watn to use pasting instead of backing you set bootstrap=False. The n_jobs parameter tells sklearn the number of CPU cores to use. -1  tells sklearn to use all available cores."
   ]
  },
  {
   "cell_type": "code",
   "execution_count": 4,
   "metadata": {},
   "outputs": [
    {
     "data": {
      "text/plain": [
       "array([1, 1, 1, ..., 1, 1, 0])"
      ]
     },
     "execution_count": 4,
     "metadata": {},
     "output_type": "execute_result"
    }
   ],
   "source": [
    "from sklearn.ensemble import BaggingClassifier\n",
    "from sklearn.tree import DecisionTreeClassifier\n",
    "\n",
    "bag_clf = BaggingClassifier(\n",
    "    DecisionTreeClassifier(), n_estimators=500, \n",
    "    max_samples=100, bootstrap=True, n_jobs=-1)\n",
    "\n",
    "bag_clf.fit(X_train, y_train)\n",
    "y_pred = bag_clf.predict(X_test)\n",
    "y_pred"
   ]
  },
  {
   "cell_type": "markdown",
   "metadata": {},
   "source": [
    "the BaggingClassifer automatically performs soft voting instead of hard voting if the base classifier has a predict_proba() method.  \n",
    "  \n",
    "Bootstrapping introduces a bit more diversity in the subsets that each predictor is trained on, so bagging ends up with a slightly higher bias than pasting but also varience reduced. Bagging usually produces a better model.\n",
    "\n",
    "## Out of bag Evaluation\n",
    "When using Bagging (with replacement) each individual predictor will not see all of the trainin instances. therefore to evaluate the model you can evaluate each individual predictor on the out of bag (oob) instances and average the scores of all the predictors. to do this in sklearn you can set oob_score=True."
   ]
  },
  {
   "cell_type": "markdown",
   "metadata": {},
   "source": [
    "bag_clf = BaggingClassifier(\n",
    "    DecisionTreeClassifier(), n_estimators=500, \n",
    "    bootstrap=True, n_jobs=-1, oob_score=True)"
   ]
  },
  {
   "cell_type": "markdown",
   "metadata": {},
   "source": [
    "bag_clf.fit(X_train, y_train)"
   ]
  },
  {
   "cell_type": "markdown",
   "metadata": {},
   "source": [
    "bag_clf.oob_score_ #so the bag classifier is expected to produce 89% accuracy on the test set. Lets see."
   ]
  },
  {
   "cell_type": "markdown",
   "metadata": {},
   "source": [
    "from sklearn.metrics import accuracy_score\n",
    "pred = bag_clf.predict(X_test)\n",
    "accuracy_score(y_test, pred) #hmmm actually better."
   ]
  },
  {
   "cell_type": "markdown",
   "metadata": {},
   "source": [
    "# Random Patches and Random Subspaces\n",
    "instead of using the above bagging example for decision trees you can just use the RandomForestClassifier as follows"
   ]
  },
  {
   "cell_type": "markdown",
   "metadata": {},
   "source": [
    "from sklearn.ensemble import RandomForestClassifier\n",
    "\n",
    "rnd_clf = RandomForestClassifier(n_estimators=500, max_leaf_nodes=16, n_jobs=-1)\n",
    "rnd_clf.fit(X_train, y_train)"
   ]
  },
  {
   "cell_type": "markdown",
   "metadata": {},
   "source": [
    "With Random Forest Classifiers the Features chosen to split the nodes will be of more importance and the surface than deeper down. It is therefore possible to get feature importance. "
   ]
  },
  {
   "cell_type": "markdown",
   "metadata": {},
   "source": [
    "from sklearn.datasets import load_iris\n",
    "iris = load_iris()\n",
    "rnd_clf = RandomForestClassifier(n_estimators=500, n_jobs=-1)\n",
    "rnd_clf.fit(iris[\"data\"], iris[\"target\"])\n",
    "for name, score in zip(iris[\"feature_names\"], rnd_clf.feature_importances_):\n",
    "    print(name, score)"
   ]
  },
  {
   "cell_type": "markdown",
   "metadata": {},
   "source": [
    "# Boosting\n",
    "Boosting referes to a method where you train the models sequentially each one trying to reduce the error of the previous. There are many boosting metods available but AdaBoost and Gradient Boosting are the best.  \n",
    "  \n",
    "## AdaBoost\n",
    "for the prdictor to correct the errors of its predecessor it must pay attention to the errors the predecessor made focusing more on them. after each validation the relative errors of the missclassified training instances is increased and then a second classifier is trained using the updated weights.  \n",
    "\n",
    "To make predictions the model takes the predictions of all of the individual predictors and multiplies them by their relative weights. \n",
    "\n",
    "Sklearn supports and uses a multicalss version of AdaBoost called SAMME . when just using two calsses is the equivalent of Adaboost"
   ]
  },
  {
   "cell_type": "code",
   "execution_count": 5,
   "metadata": {},
   "outputs": [
    {
     "data": {
      "text/plain": [
       "AdaBoostClassifier(base_estimator=DecisionTreeClassifier(max_depth=1),\n",
       "                   learning_rate=0.5, n_estimators=200)"
      ]
     },
     "execution_count": 5,
     "metadata": {},
     "output_type": "execute_result"
    }
   ],
   "source": [
    "from sklearn.ensemble import AdaBoostClassifier\n",
    "\n",
    "ada_clf = AdaBoostClassifier(\n",
    "    DecisionTreeClassifier(max_depth=1), n_estimators=200, algorithm=\"SAMME.R\", learning_rate=0.5)\n",
    "\n",
    "ada_clf.fit(X_train, y_train)"
   ]
  },
  {
   "cell_type": "markdown",
   "metadata": {},
   "source": [
    "# Gradient Boosting\n",
    "Gradient Boosting works by sequentially adding predictors to an ensemble, each one correcting its predecessor. Unlike Ada however Gradient doesnt tweak the instance weights it trys to fit the new predictor to the residual errors made by the previous predictor."
   ]
  },
  {
   "cell_type": "code",
   "execution_count": 6,
   "metadata": {},
   "outputs": [
    {
     "data": {
      "text/plain": [
       "((8000, 2), (8000,))"
      ]
     },
     "execution_count": 6,
     "metadata": {},
     "output_type": "execute_result"
    }
   ],
   "source": [
    "X_train.shape, y_train.shape"
   ]
  },
  {
   "cell_type": "code",
   "execution_count": 7,
   "metadata": {},
   "outputs": [
    {
     "data": {
      "text/plain": [
       "DecisionTreeRegressor(max_depth=2)"
      ]
     },
     "execution_count": 7,
     "metadata": {},
     "output_type": "execute_result"
    }
   ],
   "source": [
    "from sklearn.tree import DecisionTreeRegressor\n",
    "\n",
    "tree_reg1 = DecisionTreeRegressor(max_depth=2)\n",
    "tree_reg1.fit(X_train, y_train)\n",
    "\n",
    "y2 = y_train - tree_reg1.predict(X_train)\n",
    "tree_reg2 = DecisionTreeRegressor(max_depth=2)\n",
    "tree_reg2.fit(X_train, y2)\n",
    "\n",
    "y3 = y2 - tree_reg2.predict(X_train)\n",
    "tree_reg3 = DecisionTreeRegressor(max_depth=2)\n",
    "tree_reg3.fit(X_train, y3)"
   ]
  },
  {
   "cell_type": "code",
   "execution_count": 8,
   "metadata": {},
   "outputs": [
    {
     "data": {
      "text/plain": [
       "GradientBoostingRegressor(learning_rate=1.0, max_depth=2, n_estimators=3)"
      ]
     },
     "execution_count": 8,
     "metadata": {},
     "output_type": "execute_result"
    }
   ],
   "source": [
    "from sklearn.ensemble import GradientBoostingRegressor\n",
    "\n",
    "gbrt = GradientBoostingRegressor(max_depth=2, n_estimators=3, learning_rate=1.0)\n",
    "gbrt.fit(X_train, y_train)"
   ]
  },
  {
   "cell_type": "markdown",
   "metadata": {},
   "source": [
    "***To find the perfect number of trees it is optimal to use early stopping. A simple simple way to implement is with the staged_predict() metod:***"
   ]
  },
  {
   "cell_type": "code",
   "execution_count": 9,
   "metadata": {},
   "outputs": [
    {
     "data": {
      "text/plain": [
       "GradientBoostingRegressor(max_depth=2, n_estimators=119)"
      ]
     },
     "execution_count": 9,
     "metadata": {},
     "output_type": "execute_result"
    }
   ],
   "source": [
    "import numpy as np \n",
    "from sklearn.metrics import mean_squared_error\n",
    "X_train, X_val, y_train, y_val = train_test_split(X,y)\n",
    "\n",
    "gbrt= GradientBoostingRegressor(max_depth=2, n_estimators=120)\n",
    "gbrt.fit(X_train, y_train)\n",
    "\n",
    "errors = [mean_squared_error(y_val, y_pred)\n",
    "         for y_pred in gbrt.staged_predict(X_val)]\n",
    "bst_n_estimators = np.argmin(errors)\n",
    "\n",
    "gbrt_best = GradientBoostingRegressor(max_depth=2, n_estimators=bst_n_estimators)\n",
    "gbrt_best.fit(X_train, y_train)"
   ]
  },
  {
   "cell_type": "markdown",
   "metadata": {},
   "source": [
    "the above code trains the whole model and then picks the most accurate stage you can train the model in stages and stop training when it starts to overfit. "
   ]
  },
  {
   "cell_type": "code",
   "execution_count": 10,
   "metadata": {},
   "outputs": [],
   "source": [
    "gbrt = GradientBoostingRegressor(max_depth=2, warm_start=True)\n",
    "\n",
    "min_val_error = float(\"inf\")\n",
    "error_going_up = 0\n",
    "for n_estimators in range(1, 500):\n",
    "    gbrt.n_estimators = n_estimators \n",
    "    gbrt.fit(X_train, y_train)\n",
    "    y_pred = gbrt.predict(X_val)\n",
    "    val_error = mean_squared_error(y_val, y_pred)\n",
    "    if val_error < min_val_error:\n",
    "        min_val_error = val_error\n",
    "        error_going_up = 0\n",
    "    else: \n",
    "        error_going_up += 1 \n",
    "        if error_going_up == 5:\n",
    "            break"
   ]
  },
  {
   "cell_type": "code",
   "execution_count": 11,
   "metadata": {},
   "outputs": [
    {
     "data": {
      "text/plain": [
       "173"
      ]
     },
     "execution_count": 11,
     "metadata": {},
     "output_type": "execute_result"
    }
   ],
   "source": [
    "n_estimators"
   ]
  },
  {
   "cell_type": "markdown",
   "metadata": {},
   "source": [
    "# Stacking\n",
    "short from stacked generalization. all of the models in the ensembles makes tpredictions and then a final predictor called a blender takes these predictions and makes the final prediction. \n",
    "if you are just using one layer of stacking you split your training data in two. \n",
    "you train your first layer of predictors with one set. then use the predictors to make predictions of the other set. these predictions act as inputs to your blender model. \n",
    "\n",
    "Sci-kit learn does not support stacking but it would be simple enough to implement your own version.  \n",
    "    \n",
    "# Question Answers"
   ]
  },
  {
   "cell_type": "code",
   "execution_count": 12,
   "metadata": {},
   "outputs": [
    {
     "data": {
      "text/plain": [
       "dict_keys(['data', 'target', 'frame', 'feature_names', 'target_names', 'images', 'DESCR'])"
      ]
     },
     "execution_count": 12,
     "metadata": {},
     "output_type": "execute_result"
    }
   ],
   "source": [
    "from sklearn.datasets import load_digits\n",
    "import matplotlib.pyplot as plt\n",
    "\n",
    "digits = load_digits()\n",
    "digits.keys()"
   ]
  },
  {
   "cell_type": "code",
   "execution_count": 13,
   "metadata": {},
   "outputs": [
    {
     "data": {
      "text/plain": [
       "<matplotlib.image.AxesImage at 0x124ee8f70>"
      ]
     },
     "execution_count": 13,
     "metadata": {},
     "output_type": "execute_result"
    },
    {
     "data": {
      "image/png": "[encoded data removed]",
      "text/plain": [
       "<Figure size 432x288 with 1 Axes>"
      ]
     },
     "metadata": {
      "needs_background": "light"
     },
     "output_type": "display_data"
    }
   ],
   "source": [
    "plt.imshow(digits['images'][1])"
   ]
  },
  {
   "cell_type": "code",
   "execution_count": 14,
   "metadata": {},
   "outputs": [],
   "source": [
    "from sklearn.model_selection import train_test_split\n",
    "\n",
    "X_train, X_test, y_train, y_test = train_test_split(digits['data'], digits['target'], test_size=0.2)\n"
   ]
  },
  {
   "cell_type": "code",
   "execution_count": 15,
   "metadata": {},
   "outputs": [],
   "source": [
    "from sklearn.ensemble import RandomForestClassifier\n",
    "from sklearn.svm import SVC\n",
    "from sklearn.ensemble import ExtraTreesClassifier\n",
    "from sklearn.metrics import precision_score\n",
    "from sklearn.model_selection import cross_val_score\n",
    "from sklearn.neighbors import KNeighborsClassifier\n"
   ]
  },
  {
   "cell_type": "code",
   "execution_count": 42,
   "metadata": {},
   "outputs": [],
   "source": [
    "class blender():\n",
    "    def __init__(self): \n",
    "        print('initialised')\n",
    "        return None \n",
    "    def fit(self, X_data, y_data):\n",
    "        from sklearn.model_selection import train_test_split\n",
    "        X_train, X_test, y_train, y_test = train_test_split(X_data, y_data, test_size=0.2)\n",
    "\n",
    "        tree_clf = RandomForestClassifier()\n",
    "        SVC_clf = SVC(probability=True)\n",
    "        extra_tree_clf = ExtraTreesClassifier()\n",
    "        KNN = KNeighborsClassifier()\n",
    "\n",
    "        pred_arrays = []\n",
    "        for model in (tree_clf , SVC_clf, extra_tree_clf):\n",
    "            model.fit(X_train, y_train)\n",
    "            pred_arrays.append(np.array(model.predict(X_test)))\n",
    "        \n",
    "\n",
    "        L2_train = (np.asmatrix(pred_arrays)).T\n",
    "        KNN.fit(L2_train, y_test)\n",
    "        \n",
    "        self.KNN = KNN\n",
    "        self.tree_clf = tree_clf\n",
    "        self.extra_tree_clf = extra_tree_clf\n",
    "        self.SVC_clf = SVC_clf\n",
    "        print('models trained')\n",
    "        return self\n",
    "    def predict(self, data):\n",
    "        L2_data = (np.asmatrix([self.tree_clf.predict(data),\n",
    "                                self.SVC_clf.predict(data),\n",
    "                                self.extra_tree_clf.predict(data)]).T)\n",
    "        final_preds = self.KNN.predict(L2_data)\n",
    "        return final_preds"
   ]
  },
  {
   "cell_type": "code",
   "execution_count": 43,
   "metadata": {},
   "outputs": [],
   "source": [
    "X_train, X_test, y_train, y_test = train_test_split(digits['data'], digits['target'], test_size=0.3)\n"
   ]
  },
  {
   "cell_type": "code",
   "execution_count": 44,
   "metadata": {},
   "outputs": [
    {
     "name": "stdout",
     "output_type": "stream",
     "text": [
      "initialised\n"
     ]
    }
   ],
   "source": [
    "\n",
    "blender = blender()"
   ]
  },
  {
   "cell_type": "code",
   "execution_count": 45,
   "metadata": {},
   "outputs": [
    {
     "name": "stdout",
     "output_type": "stream",
     "text": [
      "models trained\n"
     ]
    },
    {
     "data": {
      "text/plain": [
       "<__main__.blender at 0x1272fc1c0>"
      ]
     },
     "execution_count": 45,
     "metadata": {},
     "output_type": "execute_result"
    }
   ],
   "source": [
    "blender.fit(digits['data'], digits['target'])"
   ]
  },
  {
   "cell_type": "code",
   "execution_count": 57,
   "metadata": {},
   "outputs": [],
   "source": [
    "pred = blender.predict(X_test)\n",
    "blender_prec = precision_score(y_test, pred, average='macro') \n",
    "\n",
    "SVC_clf = SVC(probability=True)\n",
    "tree = RandomForestClassifier()\n",
    "extra_trees = ExtraTreesClassifier()\n",
    "\n",
    "voting_ens = VotingClassifier(\n",
    "    estimators=[('tree', tree), ('SVC', SVC_clf), ('extra_trees', extra_trees)],\n",
    "    voting='hard')"
   ]
  },
  {
   "cell_type": "markdown",
   "metadata": {},
   "source": [
    "***Lets see which scores best***"
   ]
  },
  {
   "cell_type": "code",
   "execution_count": 61,
   "metadata": {},
   "outputs": [
    {
     "name": "stdout",
     "output_type": "stream",
     "text": [
      "SVC 0.9945043552938291\n",
      "RandomForestClassifier 0.9682576226572387\n",
      "ExtraTreesClassifier 0.9926538473112455\n",
      "VotingClassifier 0.9846195620304021\n",
      "blender  0.9961538461538462\n"
     ]
    }
   ],
   "source": [
    "for model in (SVC_clf, tree, extra_trees, voting_ens):\n",
    "    model.fit(X_train, y_train)\n",
    "    preds = model.predict(X_test)\n",
    "    score = precision_score(y_test, preds, average='macro')\n",
    "    print(model.__class__.__name__, score)\n",
    "print('blender ', blender_prec)"
   ]
  },
  {
   "cell_type": "code",
   "execution_count": null,
   "metadata": {},
   "outputs": [],
   "source": []
  }
 ],
 "metadata": {
  "kernelspec": {
   "display_name": "Python 3",
   "language": "python",
   "name": "python3"
  },
  "language_info": {
   "codemirror_mode": {
    "name": "ipython",
    "version": 3
   },
   "file_extension": ".py",
   "mimetype": "text/x-python",
   "name": "python",
   "nbconvert_exporter": "python",
   "pygments_lexer": "ipython3",
   "version": "3.8.3"
  }
 },
 "nbformat": 4,
 "nbformat_minor": 2
}
