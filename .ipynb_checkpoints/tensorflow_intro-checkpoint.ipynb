{
 "cells": [
  {
   "cell_type": "markdown",
   "metadata": {},
   "source": [
    "## 1. What is a tensorflow graph and how do you define one?\n",
    "\n",
    "A graph defines a computation without actually completing one. That is done in the session. "
   ]
  },
  {
   "cell_type": "code",
   "execution_count": 1,
   "metadata": {},
   "outputs": [],
   "source": [
    "import tensorflow as tf\n",
    "\n",
    "graph1 = tf.Graph() # Creates a Graph \n",
    "with graph1.as_default():\n",
    "    var = tf.Variable(32, dtype='float32', name=\"var\")\n",
    "    var2 = tf.Variable(34, dtype='float32', name=\"var2\")\n",
    "    init = tf.global_variables_initializer()\n",
    "    total = tf.add(var, var2, name=\"total\")"
   ]
  },
  {
   "cell_type": "markdown",
   "metadata": {},
   "source": [
    "## 2. What is a Tensorflow session and how do you run one\n",
    "\n",
    "A session is the execution phase where you run some or all of the graph. You first have to initialize all the variables and run the relevant operations. Then you can evaluate the outcomes."
   ]
  },
  {
   "cell_type": "code",
   "execution_count": 2,
   "metadata": {},
   "outputs": [
    {
     "data": {
      "text/plain": [
       "66.0"
      ]
     },
     "execution_count": 2,
     "metadata": {},
     "output_type": "execute_result"
    }
   ],
   "source": [
    "with tf.Session(graph=graph1) as sess:\n",
    "    sess.run(init)\n",
    "    sess.run(total)\n",
    "    fin_total = total.eval()\n",
    "   \n",
    "fin_total"
   ]
  },
  {
   "cell_type": "markdown",
   "metadata": {},
   "source": [
    "## 3. A linear Regression with GradientDescent optimizer. "
   ]
  },
  {
   "cell_type": "code",
   "execution_count": 3,
   "metadata": {},
   "outputs": [
    {
     "name": "stdout",
     "output_type": "stream",
     "text": [
      "dict_keys(['data', 'feature_names', 'target', 'DESCR'])\n"
     ]
    }
   ],
   "source": [
    "from sklearn.datasets import fetch_california_housing\n",
    "housing = fetch_california_housing()\n",
    "print(housing.keys())\n"
   ]
  },
  {
   "cell_type": "code",
   "execution_count": 4,
   "metadata": {},
   "outputs": [
    {
     "name": "stdout",
     "output_type": "stream",
     "text": [
      "scaled_housing_shape:  (20640, 9)\n",
      "targets_sahpe:  (20640, 1)\n"
     ]
    }
   ],
   "source": [
    "import numpy as np\n",
    "\n",
    "housing_data = housing.data\n",
    "housing_targets = housing.target.reshape(-1,1)\n",
    "\n",
    "\n",
    "#Scale the inputs \n",
    "from sklearn.preprocessing import StandardScaler\n",
    "scaler = StandardScaler()\n",
    "scaled_housing_data_reg = scaler.fit_transform(housing_data)\n",
    "\n",
    "\n",
    "# in the X data need to add a column of 1's to for the y intercept. \n",
    "m, n = scaled_housing_data_reg.shape\n",
    "scaled_housing_data_reg = np.c_[np.ones((m, 1)), scaled_housing_data_reg]\n",
    "\n",
    "print('scaled_housing_shape: ', scaled_housing_data_reg.shape)\n",
    "print('targets_sahpe: ', housing_targets.shape)"
   ]
  },
  {
   "cell_type": "code",
   "execution_count": 5,
   "metadata": {},
   "outputs": [],
   "source": [
    "# Now we have the data lets define the graph\n",
    "lin_reg = tf.Graph()\n",
    "with lin_reg.as_default(): \n",
    "    n_epoch = 1000\n",
    "    \n",
    "    X = tf.Variable(scaled_housing_data_reg, dtype='float32', name=\"X\")\n",
    "    y = tf.Variable(housing_targets, dtype='float32', name=\"y\")\n",
    "    theta = tf.Variable(tf.random_uniform([n+1, 1], -1.0, 1.0), dtype='float32', name='theta')\n",
    "    y_preds = tf.matmul(X, theta, name=\"y_preds\")\n",
    "    errors = y - y_preds\n",
    "    mse = tf.reduce_mean(tf.square(errors), name=\"mse\")\n",
    "    optimizer = tf.train.GradientDescentOptimizer(learning_rate = 0.01)\n",
    "    training_op = optimizer.minimize(mse)\n",
    "    \n",
    "    init = tf.global_variables_initializer()\n",
    "    "
   ]
  },
  {
   "cell_type": "code",
   "execution_count": 6,
   "metadata": {},
   "outputs": [
    {
     "name": "stdout",
     "output_type": "stream",
     "text": [
      "MSE:  15.654557\n",
      "MSE:  0.89573133\n",
      "MSE:  0.65111357\n",
      "MSE:  0.6122635\n",
      "MSE:  0.58668697\n",
      "MSE:  0.56811076\n",
      "MSE:  0.5545136\n",
      "MSE:  0.5445002\n",
      "MSE:  0.5370683\n",
      "MSE:  0.53149587\n"
     ]
    }
   ],
   "source": [
    "#Lets start the session\n",
    "\n",
    "\n",
    "with tf.Session(graph=lin_reg) as sess:\n",
    "    sess.run(init)\n",
    "    \n",
    "    for epoch in range(n_epoch):\n",
    "        if epoch % 100 == 0:\n",
    "            print(\"MSE: \", mse.eval())\n",
    "        sess.run(training_op)\n",
    "    fin_theta = theta.eval()"
   ]
  },
  {
   "cell_type": "markdown",
   "metadata": {},
   "source": [
    "# 4. How would you use Mini-batch Gradient Descent for Linear Regression\n",
    "Write a Linear Regression model for the california housing data set using mini-batch gradient descent. This would be useful for distributed computing or if the dataset it too big to fit in RAM. "
   ]
  },
  {
   "cell_type": "code",
   "execution_count": 7,
   "metadata": {},
   "outputs": [
    {
     "name": "stdout",
     "output_type": "stream",
     "text": [
      "scaled_housing_shape:  (20640, 9)\n",
      "targets_shape:  (20640, 1)\n"
     ]
    }
   ],
   "source": [
    "print('scaled_housing_shape: ', scaled_housing_data_reg.shape)\n",
    "print('targets_shape: ', housing_targets.shape)"
   ]
  },
  {
   "cell_type": "code",
   "execution_count": 8,
   "metadata": {},
   "outputs": [],
   "source": [
    "tf.reset_default_graph()\n",
    "\n",
    "m, n = scaled_housing_data_reg.shape\n",
    "\n",
    "n_epochs = 10 \n",
    "batch_size = 100 \n",
    "n_batches = int(np.ceil(m/batch_size))"
   ]
  },
  {
   "cell_type": "code",
   "execution_count": 9,
   "metadata": {},
   "outputs": [],
   "source": [
    "X = tf.placeholder(tf.float32, shape=(None, n), name=\"X\")\n",
    "y = tf.placeholder(tf.float32, shape=(None,1), name=\"y\")"
   ]
  },
  {
   "cell_type": "code",
   "execution_count": 10,
   "metadata": {},
   "outputs": [],
   "source": [
    "\n",
    "theta = tf.Variable(tf.random_uniform([n, 1], -1.0, 1.0), dtype='float32', name='theta')\n",
    "y_preds = tf.matmul(X, theta, name=\"y_preds\")\n",
    "errors = y_preds - y\n",
    "mse = tf.reduce_mean(tf.square(errors), name=\"mse\")\n",
    "optimizer = tf.train.GradientDescentOptimizer(learning_rate = 0.01)\n",
    "training_op = optimizer.minimize(mse)\n",
    "\n",
    "init = tf.global_variables_initializer()\n",
    "   "
   ]
  },
  {
   "cell_type": "code",
   "execution_count": 11,
   "metadata": {},
   "outputs": [],
   "source": [
    "def fetch_batch(epoch, batch_size, batch_index): \n",
    "    indices = np.random.randint(m, size=batch_size)\n",
    "    X_batch = scaled_housing_data_reg[indices]\n",
    "    y_batch = housing_targets[indices]\n",
    "    return X_batch, y_batch"
   ]
  },
  {
   "cell_type": "code",
   "execution_count": 12,
   "metadata": {},
   "outputs": [
    {
     "name": "stdout",
     "output_type": "stream",
     "text": [
      "[[ 2.0721366 ]\n",
      " [ 0.80634356]\n",
      " [ 0.1295167 ]\n",
      " [-0.28403333]\n",
      " [ 0.16403727]\n",
      " [ 0.00408688]\n",
      " [ 0.03000641]\n",
      " [-0.9218406 ]\n",
      " [-0.8879088 ]]\n"
     ]
    }
   ],
   "source": [
    "with tf.Session() as sess: \n",
    "    sess.run(init)\n",
    "    \n",
    "    \n",
    "    for epoch in range(n_epochs): \n",
    "        for batch in range(n_batches):\n",
    "            X_batch, y_batch = fetch_batch(epoch, batch_size, batch)\n",
    "            sess.run(training_op, feed_dict={X:X_batch, y:y_batch})\n",
    "    best_theta = theta.eval()\n",
    "    \n",
    "            \n",
    "                \n",
    "print(best_theta)"
   ]
  },
  {
   "cell_type": "markdown",
   "metadata": {},
   "source": [
    "# 4. Saving the model\n",
    "***Lets copy the Gradient Descent Model but save it***\n",
    "* The saver object is a tf.train.Saver\n",
    "* syntas for saving a session is. saver_obj.save(sess, 'directory.cpkt')"
   ]
  },
  {
   "cell_type": "code",
   "execution_count": 13,
   "metadata": {},
   "outputs": [],
   "source": [
    "tf.reset_default_graph()\n",
    "\n",
    "# Now we have the data lets define the graph\n",
    "n_epoch = 1000\n",
    "\n",
    "X = tf.Variable(scaled_housing_data_reg, dtype='float32', name=\"X\")\n",
    "y = tf.Variable(housing_targets, dtype='float32', name=\"y\")\n",
    "theta = tf.Variable(tf.random_uniform([n, 1], -1.0, 1.0), dtype='float32', name='theta')\n",
    "y_preds = tf.matmul(X, theta, name=\"y_preds\")\n",
    "errors = y - y_preds\n",
    "mse = tf.reduce_mean(tf.square(errors), name=\"mse\")\n",
    "optimizer = tf.train.GradientDescentOptimizer(learning_rate = 0.01)\n",
    "training_op = optimizer.minimize(mse)\n",
    "\n",
    "init = tf.global_variables_initializer()\n"
   ]
  },
  {
   "cell_type": "code",
   "execution_count": 14,
   "metadata": {},
   "outputs": [
    {
     "name": "stdout",
     "output_type": "stream",
     "text": [
      "MSE:  4.846938\n",
      "MSE:  0.69931775\n",
      "MSE:  0.63305706\n",
      "MSE:  0.6110627\n",
      "MSE:  0.5938236\n",
      "MSE:  0.5798398\n",
      "MSE:  0.5684227\n",
      "MSE:  0.559045\n",
      "MSE:  0.5512953\n",
      "MSE:  0.54485005\n"
     ]
    }
   ],
   "source": [
    "#Lets start the session\n",
    "#------- Saver -------------\n",
    "saver = tf.train.Saver()\n",
    "\n",
    "with tf.Session() as sess:\n",
    "    sess.run(init)\n",
    "    \n",
    "    for epoch in range(n_epoch):\n",
    "        if epoch % 100 == 0:\n",
    "            print(\"MSE: \", mse.eval())\n",
    "        sess.run(training_op)\n",
    "    saver.save(sess, 'models/tensorflow/model.cpkt')\n",
    "    fin_theta = theta.eval()"
   ]
  },
  {
   "cell_type": "markdown",
   "metadata": {},
   "source": [
    "## To restore the model and variables "
   ]
  },
  {
   "cell_type": "code",
   "execution_count": 15,
   "metadata": {},
   "outputs": [
    {
     "name": "stdout",
     "output_type": "stream",
     "text": [
      "INFO:tensorflow:Restoring parameters from models/tensorflow/model.cpkt\n",
      "MSE:  0.5394546\n"
     ]
    }
   ],
   "source": [
    "\n",
    "with tf.Session() as sess: \n",
    "    saver.restore(sess, \"models/tensorflow/model.cpkt\")\n",
    "    print('MSE: ', mse.eval())"
   ]
  },
  {
   "cell_type": "markdown",
   "metadata": {},
   "source": [
    "## 5. Viusalize a Graph and Training Curve for the mini batch gradient descent model in tensorboard.\n",
    "\n",
    "Tensorboard is a visualisation software for stats you provide from your model. you must make your model output it's variables to a specific log. Which tensorboard will read from. every time you run the model it will output to the same log which can mess up visualisations so it is useful to use a datetime in the log title. \n",
    "\n",
    "***Steps***\n",
    "1. add a tf.summary.scalar to give it the parameter to output to the log\n",
    "2. create a tf.summary.Filewriter and give it the log directory and graph \n",
    "3. in the execution phase. every few epochs evaluate the tf.summary.scalar\n",
    "4. Write the result of step 3 to the log. "
   ]
  },
  {
   "cell_type": "code",
   "execution_count": 16,
   "metadata": {},
   "outputs": [],
   "source": [
    "tf.reset_default_graph()\n",
    "from datetime import datetime \n",
    "now = datetime.utcnow().strftime(\"%Y%m%d%H%M%S\")\n",
    "root_logdir = \"models/tensorflow/tensorboard/tf_logs\"\n",
    "logdir = \"{}/run-{}\".format(root_logdir, now)"
   ]
  },
  {
   "cell_type": "code",
   "execution_count": null,
   "metadata": {},
   "outputs": [],
   "source": []
  },
  {
   "cell_type": "code",
   "execution_count": 17,
   "metadata": {},
   "outputs": [],
   "source": [
    "m, n = scaled_housing_data_reg.shape\n",
    "\n",
    "n_epochs = 10 \n",
    "batch_size = 100 \n",
    "n_batches = int(np.ceil(m/batch_size))"
   ]
  },
  {
   "cell_type": "code",
   "execution_count": 18,
   "metadata": {},
   "outputs": [],
   "source": [
    "X = tf.placeholder(tf.float32, shape=(None, n), name=\"X\")\n",
    "y = tf.placeholder(tf.float32, shape=(None,1), name=\"y\")"
   ]
  },
  {
   "cell_type": "code",
   "execution_count": 19,
   "metadata": {},
   "outputs": [],
   "source": [
    "\n",
    "theta = tf.Variable(tf.random_uniform([n, 1], -1.0, 1.0), dtype='float32', name='theta')\n",
    "y_preds = tf.matmul(X, theta, name=\"y_preds\")\n",
    "errors = y_preds - y\n",
    "mse = tf.reduce_mean(tf.square(errors), name=\"mse\")\n",
    "optimizer = tf.train.GradientDescentOptimizer(learning_rate = 0.01)\n",
    "training_op = optimizer.minimize(mse)\n",
    "\n",
    "#-------- steps 1 and 2 ------------------\n",
    "mse_summary = tf.summary.scalar('mse', mse) # the node you are writing to the log\n",
    "file_writer = tf.summary.FileWriter(logdir, tf.get_default_graph()) # A FileWriter that has a directory and the\n",
    "# the graph you want to write from.\n",
    "\n",
    "init = tf.global_variables_initializer()"
   ]
  },
  {
   "cell_type": "code",
   "execution_count": 20,
   "metadata": {},
   "outputs": [],
   "source": [
    "def fetch_batch(epoch, batch_size, batch_index): \n",
    "    indices = np.random.randint(m, size=batch_size)\n",
    "    X_batch = scaled_housing_data_reg[indices]\n",
    "    y_batch = housing_targets[indices]\n",
    "    return X_batch, y_batch"
   ]
  },
  {
   "cell_type": "code",
   "execution_count": 21,
   "metadata": {},
   "outputs": [
    {
     "name": "stdout",
     "output_type": "stream",
     "text": [
      "[[ 2.0786612e+00]\n",
      " [ 8.4121990e-01]\n",
      " [ 1.1123515e-01]\n",
      " [-3.1685081e-01]\n",
      " [ 3.1813511e-01]\n",
      " [-2.4520350e-04]\n",
      " [-2.2267591e-02]\n",
      " [-7.8233218e-01]\n",
      " [-7.5944102e-01]]\n"
     ]
    }
   ],
   "source": [
    "\n",
    "#--- Execution ------------\n",
    "with tf.Session() as sess: \n",
    "    sess.run(init)\n",
    "    \n",
    "    \n",
    "    for epoch in range(n_epochs): \n",
    "        for batch in range(n_batches):\n",
    "            X_batch, y_batch = fetch_batch(epoch, batch_size, batch)\n",
    "            if batch%10 == 0:\n",
    "                summary_str = mse_summary.eval(feed_dict={X:X_batch, y:y_batch}) #the value to write\n",
    "                step = epoch * n_batches + batch\n",
    "                file_writer.add_summary(summary_str, step) # summary to \n",
    "            sess.run(training_op, feed_dict={X:X_batch, y:y_batch})\n",
    "    best_theta = theta.eval()\n",
    "file_writer.close() \n",
    "            \n",
    "                \n",
    "print(best_theta)"
   ]
  },
  {
   "cell_type": "markdown",
   "metadata": {},
   "source": [
    "Check your directory to see if it has worked.\n",
    "\n",
    "use the following command in your command line: \n",
    "* tensorboard --dirctory/to/logs log_folder/\n",
    "\n",
    "<img src=\"models/tensorflow/tensorboard/model_graphs/california_housing.png\">"
   ]
  },
  {
   "cell_type": "markdown",
   "metadata": {},
   "source": [
    "# 6. Why would you create a name scope and how do you do it for a model? \n",
    "\n",
    "In complex neural networks for example when thousands of nodes are present the graphs can look quite complicated. To avoid this is it benefitial to group certain operations under a single name scope to declutter the graph.\n",
    "\n",
    "lets create one for the model above."
   ]
  },
  {
   "cell_type": "code",
   "execution_count": 22,
   "metadata": {},
   "outputs": [],
   "source": [
    "tf.reset_default_graph()\n",
    "from datetime import datetime \n",
    "now = datetime.utcnow().strftime(\"%Y%m%d%H%M%S\")\n",
    "root_logdir = \"models/tensorflow/tensorboard/tf_logs\"\n",
    "logdir = \"{}/run-{}\".format(root_logdir, now)"
   ]
  },
  {
   "cell_type": "code",
   "execution_count": 23,
   "metadata": {},
   "outputs": [],
   "source": [
    "m, n = scaled_housing_data_reg.shape\n",
    "\n",
    "n_epochs = 10 \n",
    "batch_size = 100 \n",
    "n_batches = int(np.ceil(m/batch_size))"
   ]
  },
  {
   "cell_type": "code",
   "execution_count": 24,
   "metadata": {},
   "outputs": [],
   "source": [
    "X = tf.placeholder(tf.float32, shape=(None, n), name=\"X\")\n",
    "y = tf.placeholder(tf.float32, shape=(None,1), name=\"y\")"
   ]
  },
  {
   "cell_type": "code",
   "execution_count": 25,
   "metadata": {},
   "outputs": [],
   "source": [
    "\n",
    "theta = tf.Variable(tf.random_uniform([n, 1], -1.0, 1.0), dtype='float32', name='theta')\n",
    "y_preds = tf.matmul(X, theta, name=\"y_preds\")\n",
    "\n",
    "\n",
    "#-------------- Add name scope ------------------------#\n",
    "with tf.name_scope(\"loss\") as scope:\n",
    "    errors = y_preds - y\n",
    "    mse = tf.reduce_mean(tf.square(errors), name=\"mse\")\n",
    "optimizer = tf.train.GradientDescentOptimizer(learning_rate = 0.01)\n",
    "training_op = optimizer.minimize(mse)\n",
    "\n",
    "mse_summary = tf.summary.scalar('mse', mse)\n",
    "file_writer = tf.summary.FileWriter(logdir, tf.get_default_graph())\n",
    "\n",
    "init = tf.global_variables_initializer()"
   ]
  },
  {
   "cell_type": "code",
   "execution_count": 26,
   "metadata": {},
   "outputs": [],
   "source": [
    "def fetch_batch(epoch, batch_size, batch_index): \n",
    "    indices = np.random.randint(m, size=batch_size)\n",
    "    X_batch = scaled_housing_data_reg[indices]\n",
    "    y_batch = housing_targets[indices]\n",
    "    return X_batch, y_batch"
   ]
  },
  {
   "cell_type": "code",
   "execution_count": 27,
   "metadata": {},
   "outputs": [
    {
     "name": "stdout",
     "output_type": "stream",
     "text": [
      "[[ 2.0702903 ]\n",
      " [ 0.8531714 ]\n",
      " [ 0.13282508]\n",
      " [-0.28781632]\n",
      " [ 0.3742201 ]\n",
      " [ 0.00224174]\n",
      " [-0.06052041]\n",
      " [-0.807993  ]\n",
      " [-0.7959646 ]]\n"
     ]
    }
   ],
   "source": [
    "\n",
    "#--- Execution ------------\n",
    "with tf.Session() as sess: \n",
    "    sess.run(init)\n",
    "    \n",
    "    \n",
    "    for epoch in range(n_epochs): \n",
    "        for batch in range(n_batches):\n",
    "            X_batch, y_batch = fetch_batch(epoch, batch_size, batch)\n",
    "            if batch%10 == 0:\n",
    "                summary_str = mse_summary.eval(feed_dict={X:X_batch, y:y_batch})\n",
    "                step = epoch * n_batches + batch\n",
    "                file_writer.add_summary(summary_str, step)\n",
    "            sess.run(training_op, feed_dict={X:X_batch, y:y_batch})\n",
    "    best_theta = theta.eval()\n",
    "    \n",
    "file_writer.close() \n",
    "            \n",
    "                \n",
    "print(best_theta)"
   ]
  },
  {
   "cell_type": "markdown",
   "metadata": {},
   "source": [
    "***lets have a look at the new graph with the name scope***\n",
    "\n",
    "<img src=\"models/tensorflow/tensorboard/model_graphs/california_housing_name_scope.png\">\n",
    "\n",
    "***As you can see compared to the graph above the mse and error operation nodes are grouped under Loss***"
   ]
  },
  {
   "cell_type": "code",
   "execution_count": 28,
   "metadata": {},
   "outputs": [
    {
     "name": "stdout",
     "output_type": "stream",
     "text": [
      "loss/sub\n"
     ]
    }
   ],
   "source": [
    "print(errors.op.name) # the name of each op is defined within the scope with the prex \"loss\""
   ]
  },
  {
   "cell_type": "code",
   "execution_count": 29,
   "metadata": {},
   "outputs": [
    {
     "name": "stdout",
     "output_type": "stream",
     "text": [
      "loss/mse\n"
     ]
    }
   ],
   "source": [
    "print(mse.op.name)"
   ]
  },
  {
   "cell_type": "markdown",
   "metadata": {},
   "source": [
    "# 7. suppose you wanted to create a graph that outputs the sum of 2 rectified linear units. How would you do it? \n",
    "\n",
    "rectified linear units compute the result of the linear equation and return either the result or 0 depending on which is larger. Hence rectified. writing two different graphs for the same process would be repetative so you can do the following. \n"
   ]
  },
  {
   "cell_type": "code",
   "execution_count": 30,
   "metadata": {},
   "outputs": [],
   "source": [
    "tf.reset_default_graph()\n",
    "\n",
    "def relu(X):\n",
    "    with tf.name_scope(\"relu\") as scope:\n",
    "        w_shape = (int(X.get_shape()[1]), 1)\n",
    "        w = tf.Variable(tf.random_normal(w_shape), name=\"w\")\n",
    "        b = tf.Variable(0.0, name=\"bias\")\n",
    "        z = tf.add(tf.matmul(X, w), b, name=\"z\")\n",
    "        return tf.maximum(z, 0., name=\"relu\")\n",
    "\n",
    "n_features = 3\n",
    "X = tf.placeholder(tf.float32, shape=(None, n_features), name=\"X\")\n",
    "relus = [relu(X) for i in range(5)]\n",
    "output = tf.add_n(relus, name=\"output\")"
   ]
  },
  {
   "cell_type": "code",
   "execution_count": 31,
   "metadata": {},
   "outputs": [],
   "source": [
    "file_writer = tf.summary.FileWriter(\"models/tensorflow/tensorboard/relu3\", tf.get_default_graph())\n",
    "file_writer.close()\n"
   ]
  },
  {
   "cell_type": "markdown",
   "metadata": {},
   "source": [
    "The resultant graph represents three different graphs in the same space showing modularity. \n",
    "\n",
    "<img src=\"models/tensorflow/tensorboard/model_graphs/modularity_relu.png\">"
   ]
  },
  {
   "cell_type": "code",
   "execution_count": null,
   "metadata": {},
   "outputs": [],
   "source": []
  },
  {
   "cell_type": "markdown",
   "metadata": {},
   "source": [
    "# Sharing Variables"
   ]
  },
  {
   "cell_type": "markdown",
   "metadata": {},
   "source": [
    "if you want to share a variable between components of your graphs one option is to create it and pass it as a parameter to the functions that need it e.g. "
   ]
  },
  {
   "cell_type": "code",
   "execution_count": 32,
   "metadata": {},
   "outputs": [],
   "source": [
    "tf.reset_default_graph()\n",
    "\n",
    "def relu(X, threshold):\n",
    "    with tf.name_scope(\"relu\", reuse=True) as scope:\n",
    "        w_shape = (int(X.get_shape()[1]), 1)\n",
    "        w = tf.Variable(tf.random_normal(w_shape), name=\"w\")\n",
    "        b = tf.Variable(0.0, name=\"bias\")\n",
    "        z = tf.add(tf.matmul(X, w), b, name=\"z\")\n",
    "        return tf.maximum(z, threshold, name=\"relu\")"
   ]
  },
  {
   "cell_type": "markdown",
   "metadata": {},
   "source": [
    "It can be painful to pass variables around all the time so you could put them in a dictionary or alternatively create classes to hold the variables. However another option is to set the shared variable as an attribute of the relu() function. "
   ]
  },
  {
   "cell_type": "code",
   "execution_count": 33,
   "metadata": {},
   "outputs": [],
   "source": [
    "tf.reset_default_graph()\n",
    "\n",
    "def relu(X):\n",
    "    with tf.variable_scope(\"relu\") as scope:\n",
    "        if not hasattr(relu, \"threshold\"):\n",
    "            relu.threshold = tf.Variable(0.0, name=\"threshold\")\n",
    "        w_shape = (int(X.get_shape()[1]), 1)\n",
    "        w = tf.Variable(tf.random_normal(w_shape), name=\"w\")\n",
    "        b = tf.Variable(0.0, name=\"bias\")\n",
    "        z = tf.add(tf.matmul(X, w), b, name=\"z\")\n",
    "        return tf.maximum(z, relu.threshold, name=\"relu\")"
   ]
  },
  {
   "cell_type": "code",
   "execution_count": 34,
   "metadata": {},
   "outputs": [],
   "source": [
    "X = tf.placeholder(tf.float32, shape=(None, n_features), name=\"X\")\n",
    "relus = [relu(X) for i in range(5)]\n",
    "output = tf.add_n(relus, name=\"output\")\n"
   ]
  },
  {
   "cell_type": "markdown",
   "metadata": {},
   "source": [
    "Should we want to reuse the variable that is in the relu function name scope we can use get_variable(). We want to create the variable if it does not exist or use it if it does "
   ]
  },
  {
   "cell_type": "code",
   "execution_count": 35,
   "metadata": {},
   "outputs": [],
   "source": [
    "with tf.variable_scope(\"relu\"):\n",
    "    threshold = tf.get_variable(\"threshold\", shape=(), initializer=tf.constant_initializer(0.0))"
   ]
  },
  {
   "cell_type": "markdown",
   "metadata": {},
   "source": [
    "the above code would create an exception if the variable threshold had already been created to stop you reusing it by mistake. "
   ]
  },
  {
   "cell_type": "code",
   "execution_count": 36,
   "metadata": {},
   "outputs": [],
   "source": [
    "with tf.variable_scope(\"relu\", reuse=True): # can now access all the variables in relu.\n",
    "    threshold = tf.get_variable(\"threshold\")"
   ]
  },
  {
   "cell_type": "markdown",
   "metadata": {},
   "source": [
    "should we now want to create 5 relu's with a given theshold"
   ]
  },
  {
   "cell_type": "code",
   "execution_count": 37,
   "metadata": {},
   "outputs": [],
   "source": [
    "tf.reset_default_graph()\n",
    "\n",
    "def relu(X):\n",
    "    with tf.variable_scope(\"relu\") as scope:\n",
    "        if not hasattr(relu, \"threshold\"):\n",
    "            relu.threshold = tf.Variable(0.0, name=\"threshold\")\n",
    "        w_shape = (int(X.get_shape()[1]), 1)\n",
    "        w = tf.Variable(tf.random_normal(w_shape), name=\"w\")\n",
    "        b = tf.Variable(0.0, name=\"bias\")\n",
    "        z = tf.add(tf.matmul(X, w), b, name=\"z\")\n",
    "        return tf.maximum(z, relu.threshold, name=\"relu\")\n",
    "\n",
    "X = tf.placeholder(tf.float32, shape=(None, n_features), name=\"X\")\n",
    "with tf.variable_scope(\"relu\"): \n",
    "    tf.get_variable(\"threshold\", shape=(), initializer=tf.constant_initializer(0.0))\n",
    "relus = [relu(X) for i in range(5)]\n",
    "output = tf.add_n(relus, name=\"output\")"
   ]
  },
  {
   "cell_type": "markdown",
   "metadata": {},
   "source": [
    "It is annoying that the threshold variable has to be set outside of the relu function where all the relu code resides. \n",
    "\n",
    "To fix this the following code creates a threshold variable within the relu() function and does not have to worry about the name scopes. it will create or reuse the threshold variable depeding on wether it is the first call. "
   ]
  },
  {
   "cell_type": "code",
   "execution_count": 38,
   "metadata": {},
   "outputs": [],
   "source": [
    "tf.reset_default_graph()\n",
    "\n",
    "def relu(X):\n",
    "    threshold = tf.get_variable(\"threshold\", shape=(),\n",
    "                                initializer=tf.constant_initializer(0.0))\n",
    "    w_shape = (int(X.get_shape()[1]), 1)                        # not shown in the book\n",
    "    w = tf.Variable(tf.random_normal(w_shape), name=\"weights\")  # not shown\n",
    "    b = tf.Variable(0.0, name=\"bias\")                           # not shown\n",
    "    z = tf.add(tf.matmul(X, w), b, name=\"z\")                    # not shown\n",
    "    return tf.maximum(z, threshold, name=\"max\")\n",
    "\n",
    "X = tf.placeholder(tf.float32, shape=(None, n_features), name=\"X\")\n",
    "relus = []\n",
    "for relu_index in range(5):\n",
    "    with tf.variable_scope(\"relu\", reuse=(relu_index >= 1)) as scope:\n",
    "        relus.append(relu(X))\n",
    "output = tf.add_n(relus, name=\"output\")"
   ]
  },
  {
   "cell_type": "code",
   "execution_count": 39,
   "metadata": {},
   "outputs": [],
   "source": [
    "file_writer = tf.summary.FileWriter(\"models/tensorflow/tensorboard/relu_shared_vars\", tf.get_default_graph())\n",
    "file_writer.close()\n",
    "    "
   ]
  },
  {
   "cell_type": "markdown",
   "metadata": {},
   "source": [
    "# Logistic Regression Model with mini-batch Gradient Descent"
   ]
  },
  {
   "cell_type": "code",
   "execution_count": 40,
   "metadata": {},
   "outputs": [
    {
     "data": {
      "text/plain": [
       "((2000, 2), (2000,))"
      ]
     },
     "execution_count": 40,
     "metadata": {},
     "output_type": "execute_result"
    }
   ],
   "source": [
    "from sklearn.datasets import make_moons\n",
    "import matplotlib.pyplot as plt\n",
    "\n",
    "X, y = make_moons(noise=0.2, n_samples=2000)\n",
    "\n",
    "X.shape, y.shape"
   ]
  },
  {
   "cell_type": "code",
   "execution_count": null,
   "metadata": {},
   "outputs": [],
   "source": []
  },
  {
   "cell_type": "code",
   "execution_count": 41,
   "metadata": {},
   "outputs": [
    {
     "data": {
      "text/plain": [
       "array([1, 1, 0, 0, 1])"
      ]
     },
     "execution_count": 41,
     "metadata": {},
     "output_type": "execute_result"
    }
   ],
   "source": [
    "y[:5]"
   ]
  },
  {
   "cell_type": "code",
   "execution_count": 42,
   "metadata": {},
   "outputs": [
    {
     "data": {
      "text/plain": [
       "[<matplotlib.lines.Line2D at 0x7fc58148cef0>]"
      ]
     },
     "execution_count": 42,
     "metadata": {},
     "output_type": "execute_result"
    },
    {
     "data": {
      "image/png": "[encoded data removed]",
      "text/plain": [
       "<Figure size 432x288 with 1 Axes>"
      ]
     },
     "metadata": {
      "needs_background": "light"
     },
     "output_type": "display_data"
    }
   ],
   "source": [
    "plt.plot(X[:,0][y==1], X[:,1][y==1], 'go')\n",
    "plt.plot(X[:,0][y==0], X[:,1][y==0], 'r^')"
   ]
  },
  {
   "cell_type": "code",
   "execution_count": 43,
   "metadata": {},
   "outputs": [
    {
     "name": "stdout",
     "output_type": "stream",
     "text": [
      "X_train:  (1600, 2) y_train:  (1600,)\n",
      "y_train:  (1600,) y_train:  (1600,)\n"
     ]
    }
   ],
   "source": [
    "from sklearn.model_selection import train_test_split\n",
    "\n",
    "X_train, X_test, y_train, y_test = train_test_split(X, y, test_size=0.2)\n",
    "\n",
    "print(\"X_train: \", X_train.shape, \"y_train: \", y_train.shape)\n",
    "print(\"y_train: \", y_train.shape, \"y_train: \", y_train.shape)\n",
    "m, n = X_test.shape\n",
    "X_test = np.c_[np.ones((m, 1)), X_test]\n",
    "y_test = y_test.reshape(m, 1)"
   ]
  },
  {
   "cell_type": "code",
   "execution_count": 44,
   "metadata": {},
   "outputs": [
    {
     "data": {
      "text/plain": [
       "16"
      ]
     },
     "execution_count": 44,
     "metadata": {},
     "output_type": "execute_result"
    }
   ],
   "source": [
    "import numpy as np\n",
    "m, n = X_train.shape\n",
    "\n",
    "n_epochs = 5000\n",
    "batch_size=100\n",
    "n_batches = int(np.ceil(m/batch_size))\n",
    "learning_rate = 0.005\n",
    "n_batches"
   ]
  },
  {
   "cell_type": "code",
   "execution_count": 45,
   "metadata": {},
   "outputs": [
    {
     "name": "stdout",
     "output_type": "stream",
     "text": [
      "WARNING:tensorflow:From /Users/olivergrainge/opt/anaconda3/envs/tensorflow/lib/python3.5/site-packages/tensorflow_core/python/ops/losses/losses_impl.py:121: where (from tensorflow.python.ops.array_ops) is deprecated and will be removed in a future version.\n",
      "Instructions for updating:\n",
      "Use tf.where in 2.0, which has the same broadcast rule as np.where\n"
     ]
    }
   ],
   "source": [
    "import tensorflow as tf\n",
    "tf.reset_default_graph()\n",
    "\n",
    "def get_batch():\n",
    "    indices = np.random.randint(m, size=batch_size)\n",
    "    X = X_train[indices]\n",
    "    y = y_train[indices]\n",
    "    y_batch = y.reshape(100,1)\n",
    "    X = np.c_[np.ones((batch_size,1)), X]\n",
    "    X_batch = X.reshape(100,3)\n",
    "    return X_batch, y_batch\n",
    "\n",
    "tf.reset_default_graph()\n",
    "\n",
    "\n",
    "X_place = tf.placeholder(tf.float32, shape=(None, n+1), name=\"X_place\")\n",
    "y_place = tf.placeholder(tf.float32, shape=(None, 1), name=\"y_place\")\n",
    "theta = tf.Variable(tf.random_uniform([n+1, 1], -1.0, 1.0), name=\"theta\")\n",
    "logits = tf.matmul(X_place, theta, name=\"logits\")\n",
    "y_proba = tf.sigmoid(-logits)\n",
    "\n",
    "loss = tf.losses.log_loss(y_place, y_proba)\n",
    "\n",
    "#optimizer \n",
    "optimizer = tf.train.GradientDescentOptimizer(learning_rate=learning_rate)\n",
    "training_op = optimizer.minimize(loss)"
   ]
  },
  {
   "cell_type": "code",
   "execution_count": 46,
   "metadata": {},
   "outputs": [],
   "source": [
    "init = tf.global_variables_initializer()"
   ]
  },
  {
   "cell_type": "code",
   "execution_count": 47,
   "metadata": {},
   "outputs": [
    {
     "name": "stdout",
     "output_type": "stream",
     "text": [
      "EPOCH:  0 loss_val:  1.2021484\n",
      "EPOCH:  100 loss_val:  0.4380554\n",
      "EPOCH:  200 loss_val:  0.35178745\n",
      "EPOCH:  300 loss_val:  0.32918102\n",
      "EPOCH:  400 loss_val:  0.28486994\n",
      "EPOCH:  500 loss_val:  0.3864545\n",
      "EPOCH:  600 loss_val:  0.3061686\n",
      "EPOCH:  700 loss_val:  0.31421578\n",
      "EPOCH:  800 loss_val:  0.3073972\n",
      "EPOCH:  900 loss_val:  0.27625877\n"
     ]
    }
   ],
   "source": [
    "with tf.Session() as sess:\n",
    "    sess.run(init)\n",
    "    \n",
    "    for epoch in range(n_epoch):\n",
    "        for batch_index in range(n_batches):\n",
    "            X_batch, y_batch = get_batch()\n",
    "            sess.run(training_op, feed_dict={X_place:X_batch, y_place:y_batch})\n",
    "        if epoch%100 == 0: \n",
    "            loss_val = loss.eval(feed_dict={X_place:X_batch, y_place:y_batch})\n",
    "            print('EPOCH: ', epoch, 'loss_val: ', loss_val)\n",
    "    y_proba = y_proba.eval(feed_dict={X_place:X_test, y_place:y_test})\n",
    "     \n",
    "\n",
    "            "
   ]
  },
  {
   "cell_type": "markdown",
   "metadata": {},
   "source": [
    "# Precision and Recall\n",
    "the best theta is evaluated above."
   ]
  },
  {
   "cell_type": "code",
   "execution_count": 48,
   "metadata": {},
   "outputs": [],
   "source": [
    "y_pred = (y_proba >= 0.5)"
   ]
  },
  {
   "cell_type": "code",
   "execution_count": 49,
   "metadata": {},
   "outputs": [],
   "source": [
    "from sklearn.metrics import precision_score, recall_score"
   ]
  },
  {
   "cell_type": "code",
   "execution_count": 50,
   "metadata": {},
   "outputs": [
    {
     "name": "stdout",
     "output_type": "stream",
     "text": [
      " Precision:  0.8507462686567164  Recall:  0.8724489795918368\n"
     ]
    }
   ],
   "source": [
    "prec = precision_score(y_test, y_pred)\n",
    "recall = recall_score(y_test, y_pred)\n",
    "print(' Precision: ', prec, ' Recall: ', recall)"
   ]
  },
  {
   "cell_type": "code",
   "execution_count": 51,
   "metadata": {},
   "outputs": [],
   "source": [
    "# Lets investigate how the threshold alters precision and threshold. "
   ]
  },
  {
   "cell_type": "code",
   "execution_count": 52,
   "metadata": {},
   "outputs": [
    {
     "name": "stderr",
     "output_type": "stream",
     "text": [
      "/Users/olivergrainge/opt/anaconda3/envs/tensorflow/lib/python3.5/site-packages/sklearn/metrics/_classification.py:1272: UndefinedMetricWarning: Precision is ill-defined and being set to 0.0 due to no predicted samples. Use `zero_division` parameter to control this behavior.\n",
      "  _warn_prf(average, modifier, msg_start, len(result))\n"
     ]
    }
   ],
   "source": [
    "threshold = np.linspace(0,1, num=50)\n",
    "\n",
    "precisions = []\n",
    "recalls = []\n",
    "for level in threshold: \n",
    "    y_predictions = (y_proba >= level)\n",
    "    precisions.append(precision_score(y_test, y_predictions))\n",
    "    recalls.append(recall_score(y_test, y_predictions))"
   ]
  },
  {
   "cell_type": "code",
   "execution_count": 53,
   "metadata": {},
   "outputs": [
    {
     "data": {
      "text/plain": [
       "[<matplotlib.lines.Line2D at 0x7fc5814f17f0>]"
      ]
     },
     "execution_count": 53,
     "metadata": {},
     "output_type": "execute_result"
    },
    {
     "data": {
      "image/png": "[encoded data removed]",
      "text/plain": [
       "<Figure size 432x288 with 1 Axes>"
      ]
     },
     "metadata": {
      "needs_background": "light"
     },
     "output_type": "display_data"
    }
   ],
   "source": [
    "import matplotlib.pyplot as plt\n",
    "\n",
    "plt.plot(threshold, precisions)\n",
    "plt.plot(threshold, recalls)"
   ]
  },
  {
   "cell_type": "markdown",
   "metadata": {},
   "source": [
    "***lets have a look at what the graph looks like***"
   ]
  },
  {
   "cell_type": "code",
   "execution_count": 54,
   "metadata": {},
   "outputs": [],
   "source": [
    "file_writer = tf.summary.FileWriter('models/tensorflow/tensorboard/make_moons', tf.get_default_graph())"
   ]
  },
  {
   "cell_type": "markdown",
   "metadata": {},
   "source": [
    "<img src=\"models/tensorflow/tensorboard/model_graphs/make_moons.png\">"
   ]
  },
  {
   "cell_type": "markdown",
   "metadata": {},
   "source": [
    "# Define the graph within a function that saves the model at milestones and loads from them if an issue found. "
   ]
  },
  {
   "cell_type": "code",
   "execution_count": 160,
   "metadata": {},
   "outputs": [],
   "source": [
    "tf.reset_default_graph()\n",
    "import os\n",
    "\n",
    "\n",
    "class LogisticRegression():\n",
    "    def __init__(self, threshold=0.5):\n",
    "        self.threshold = threshold\n",
    "        \n",
    "    def fit(self, X_data, y_data, n_epochs=2000, batch_size=100):\n",
    "        tf.reset_default_graph()\n",
    "        m, n = X_data.shape\n",
    "        X_data_bias = np.c_[np.ones((m,1)), X_data]\n",
    "        X = tf.placeholder(tf.float32, shape=(None, n+1), name=\"X\")\n",
    "        y = tf.placeholder(tf.float32, shape=(None, 1), name=\"y\")\n",
    "        theta = tf.Variable(tf.random_uniform([n+1, 1], -1.0, 1.0), name=\"theta\")\n",
    "        logits = tf.matmul(X, theta, name=\"logits\")\n",
    "        y_proba = tf.sigmoid(-logits)\n",
    "        loss = tf.losses.log_loss(y, y_proba)\n",
    "\n",
    "        optimizer = tf.train.GradientDescentOptimizer(learning_rate=learning_rate)\n",
    "        training_op = optimizer.minimize(loss)\n",
    "        \n",
    "        init = tf.global_variables_initializer()\n",
    "        saver = tf.train.Saver()\n",
    "        \n",
    "        with tf.Session() as sess:\n",
    "            if os.path.isfile( 'models/tensorflow/tensorboard/log_reg_model/.epoch.cpkt'):\n",
    "                with open('models/tensorflow/tensorboard/log_reg_log/.epoch.cpkt', 'rb') as f:\n",
    "                    start_epoch = int(f.read())\n",
    "                print(' Training stopped and has restarted ')\n",
    "                saver.restore(sess, 'models/tensorflow/tensorboard/log_reg_log.cpkt')\n",
    "            else: \n",
    "                start_epoch = 0\n",
    "            n_epochs = n_epochs - start_epoch  \n",
    "            \n",
    "            sess.run(init)\n",
    "            for epoch in range(n_epochs):\n",
    "                indices = np.random.randint(m, size=batch_size)\n",
    "                X_batch = X_data_bias[indices].reshape(100,n+1)\n",
    "                y_batch = y_data[indices].reshape(100,1)\n",
    "                sess.run(training_op, feed_dict={X:X_batch, y:y_batch})\n",
    "                \n",
    "                \n",
    "                if epoch%500 == 0 and epoch != 0:\n",
    "                    saver = tf.train.Saver()\n",
    "                    saver.save(sess, 'models/tensorflow/tensorboard/log_reg_log.cpkt')\n",
    "                    if os.path.isfile('models/tensorflow/tensorboard/log_reg_log/.epoch.cpkt'):\n",
    "                        with open('models/tensorflow/tensorboard/log_reg_log/.epoch.cpkt', \"wb\") as f:\n",
    "                            f.write(b\"%d\" % (epoch + 1))\n",
    "                    else:\n",
    "                        os.mkdir('models/tensorflow/tensorboard/log_reg_log/')\n",
    "                        fp = os.open('models/tensorflow/tensorboard/log_reg_log/.epoch.cpkt', os.O_CREAT)\n",
    "                        fp.write(b\"%d\" % (epoch + 1))\n",
    "                    \n",
    "                \n",
    "            self.best_theta = theta.eval()\n",
    "        print('epochs executed: ', n_epochs)\n",
    "        print('\\nTraining Complete')\n",
    "        \n",
    "    def predict(self, X_data, threshold=0.5):\n",
    "        m, n = X_data.shape\n",
    "        X_data_bias = np.c_[np.ones((m,1)), X_data]\n",
    "        \n",
    "        tf.reset_default_graph()\n",
    "        X = tf.Variable(X_data_bias, name=\"X\")\n",
    "        logits = tf.matmul(X_data_bias.astype(np.float32), self.best_theta)\n",
    "        y_proba = tf.sigmoid(-logits)\n",
    "        \n",
    "        init = tf.global_variables_initializer()\n",
    "        \n",
    "        with tf.Session() as sess:\n",
    "            sess.run(init)\n",
    "            y_probas = y_proba.eval()\n",
    "        \n",
    "\n",
    "        y_preds = (y_probas >= self.threshold)    \n",
    "        return y_preds\n",
    "                "
   ]
  },
  {
   "cell_type": "code",
   "execution_count": 161,
   "metadata": {},
   "outputs": [
    {
     "name": "stdout",
     "output_type": "stream",
     "text": [
      "epochs executed:  2000\n",
      "\n",
      "Training Complete\n"
     ]
    }
   ],
   "source": [
    "X, y = make_moons()\n",
    "model = LogisticRegression()\n",
    "model.fit(X, y)\n",
    "output = model.predict(X, y)\n"
   ]
  },
  {
   "cell_type": "code",
   "execution_count": 147,
   "metadata": {},
   "outputs": [],
   "source": []
  },
  {
   "cell_type": "code",
   "execution_count": null,
   "metadata": {},
   "outputs": [],
   "source": []
  },
  {
   "cell_type": "code",
   "execution_count": null,
   "metadata": {},
   "outputs": [],
   "source": []
  }
 ],
 "metadata": {
  "kernelspec": {
   "display_name": "tensorflow",
   "language": "python",
   "name": "tensorflow"
  },
  "language_info": {
   "codemirror_mode": {
    "name": "ipython",
    "version": 3
   },
   "file_extension": ".py",
   "mimetype": "text/x-python",
   "name": "python",
   "nbconvert_exporter": "python",
   "pygments_lexer": "ipython3",
   "version": "3.5.6"
  }
 },
 "nbformat": 4,
 "nbformat_minor": 4
}
